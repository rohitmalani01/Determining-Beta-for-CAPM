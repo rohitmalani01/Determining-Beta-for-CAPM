{
 "cells": [
  {
   "cell_type": "markdown",
   "id": "fffc8687",
   "metadata": {},
   "source": [
    "# Determining Beta for Microsoft (MSFT) in comparison with S&P500 returns (GSPC)"
   ]
  },
  {
   "cell_type": "code",
   "execution_count": 16,
   "id": "199134f4",
   "metadata": {},
   "outputs": [],
   "source": [
    "import numpy as np\n",
    "import pandas as pd\n",
    "import matplotlib.pyplot as plt\n",
    "%matplotlib inline"
   ]
  },
  {
   "cell_type": "code",
   "execution_count": 2,
   "id": "c0308ad7",
   "metadata": {},
   "outputs": [],
   "source": [
    "security_data = pd.read_csv('C:/Users/ADMIN/Desktop/Westminster/6. Artificial Intelligence and Machine Learning/3. Week 3/ˆGSPC_MSFT Monthly V2 .csv',index_col='Date')"
   ]
  },
  {
   "cell_type": "code",
   "execution_count": 3,
   "id": "1be4e373",
   "metadata": {},
   "outputs": [
    {
     "data": {
      "text/html": [
       "<div>\n",
       "<style scoped>\n",
       "    .dataframe tbody tr th:only-of-type {\n",
       "        vertical-align: middle;\n",
       "    }\n",
       "\n",
       "    .dataframe tbody tr th {\n",
       "        vertical-align: top;\n",
       "    }\n",
       "\n",
       "    .dataframe thead th {\n",
       "        text-align: right;\n",
       "    }\n",
       "</style>\n",
       "<table border=\"1\" class=\"dataframe\">\n",
       "  <thead>\n",
       "    <tr style=\"text-align: right;\">\n",
       "      <th></th>\n",
       "      <th>ˆGSPC</th>\n",
       "      <th>MSFT</th>\n",
       "    </tr>\n",
       "    <tr>\n",
       "      <th>Date</th>\n",
       "      <th></th>\n",
       "      <th></th>\n",
       "    </tr>\n",
       "  </thead>\n",
       "  <tbody>\n",
       "    <tr>\n",
       "      <th>01/11/2015</th>\n",
       "      <td>2080.409912</td>\n",
       "      <td>49.264046</td>\n",
       "    </tr>\n",
       "    <tr>\n",
       "      <th>01/12/2015</th>\n",
       "      <td>2043.939941</td>\n",
       "      <td>50.627274</td>\n",
       "    </tr>\n",
       "    <tr>\n",
       "      <th>01/01/2016</th>\n",
       "      <td>1940.239990</td>\n",
       "      <td>50.271385</td>\n",
       "    </tr>\n",
       "    <tr>\n",
       "      <th>01/02/2016</th>\n",
       "      <td>1932.229980</td>\n",
       "      <td>46.429623</td>\n",
       "    </tr>\n",
       "    <tr>\n",
       "      <th>01/03/2016</th>\n",
       "      <td>2059.739990</td>\n",
       "      <td>50.760994</td>\n",
       "    </tr>\n",
       "  </tbody>\n",
       "</table>\n",
       "</div>"
      ],
      "text/plain": [
       "                  ˆGSPC       MSFT\n",
       "Date                              \n",
       "01/11/2015  2080.409912  49.264046\n",
       "01/12/2015  2043.939941  50.627274\n",
       "01/01/2016  1940.239990  50.271385\n",
       "01/02/2016  1932.229980  46.429623\n",
       "01/03/2016  2059.739990  50.760994"
      ]
     },
     "execution_count": 3,
     "metadata": {},
     "output_type": "execute_result"
    }
   ],
   "source": [
    "security_data.head()"
   ]
  },
  {
   "cell_type": "code",
   "execution_count": 4,
   "id": "d3575fcb",
   "metadata": {},
   "outputs": [
    {
     "data": {
      "text/html": [
       "<div>\n",
       "<style scoped>\n",
       "    .dataframe tbody tr th:only-of-type {\n",
       "        vertical-align: middle;\n",
       "    }\n",
       "\n",
       "    .dataframe tbody tr th {\n",
       "        vertical-align: top;\n",
       "    }\n",
       "\n",
       "    .dataframe thead th {\n",
       "        text-align: right;\n",
       "    }\n",
       "</style>\n",
       "<table border=\"1\" class=\"dataframe\">\n",
       "  <thead>\n",
       "    <tr style=\"text-align: right;\">\n",
       "      <th></th>\n",
       "      <th>ˆGSPC</th>\n",
       "      <th>MSFT</th>\n",
       "    </tr>\n",
       "  </thead>\n",
       "  <tbody>\n",
       "    <tr>\n",
       "      <th>count</th>\n",
       "      <td>61.000000</td>\n",
       "      <td>61.000000</td>\n",
       "    </tr>\n",
       "    <tr>\n",
       "      <th>mean</th>\n",
       "      <td>2653.731325</td>\n",
       "      <td>104.810811</td>\n",
       "    </tr>\n",
       "    <tr>\n",
       "      <th>std</th>\n",
       "      <td>412.649051</td>\n",
       "      <td>50.773370</td>\n",
       "    </tr>\n",
       "    <tr>\n",
       "      <th>min</th>\n",
       "      <td>1932.229980</td>\n",
       "      <td>45.834702</td>\n",
       "    </tr>\n",
       "    <tr>\n",
       "      <th>25%</th>\n",
       "      <td>2362.719971</td>\n",
       "      <td>60.614021</td>\n",
       "    </tr>\n",
       "    <tr>\n",
       "      <th>50%</th>\n",
       "      <td>2704.100098</td>\n",
       "      <td>95.183823</td>\n",
       "    </tr>\n",
       "    <tr>\n",
       "      <th>75%</th>\n",
       "      <td>2941.760010</td>\n",
       "      <td>135.501053</td>\n",
       "    </tr>\n",
       "    <tr>\n",
       "      <th>max</th>\n",
       "      <td>3621.629883</td>\n",
       "      <td>224.398651</td>\n",
       "    </tr>\n",
       "  </tbody>\n",
       "</table>\n",
       "</div>"
      ],
      "text/plain": [
       "             ˆGSPC        MSFT\n",
       "count    61.000000   61.000000\n",
       "mean   2653.731325  104.810811\n",
       "std     412.649051   50.773370\n",
       "min    1932.229980   45.834702\n",
       "25%    2362.719971   60.614021\n",
       "50%    2704.100098   95.183823\n",
       "75%    2941.760010  135.501053\n",
       "max    3621.629883  224.398651"
      ]
     },
     "execution_count": 4,
     "metadata": {},
     "output_type": "execute_result"
    }
   ],
   "source": [
    "security_data.describe()"
   ]
  },
  {
   "cell_type": "code",
   "execution_count": 5,
   "id": "c1135d88",
   "metadata": {},
   "outputs": [],
   "source": [
    "sec_returns = np.log(security_data/security_data.shift(1))"
   ]
  },
  {
   "cell_type": "code",
   "execution_count": 6,
   "id": "2d4d792c",
   "metadata": {},
   "outputs": [
    {
     "data": {
      "text/html": [
       "<div>\n",
       "<style scoped>\n",
       "    .dataframe tbody tr th:only-of-type {\n",
       "        vertical-align: middle;\n",
       "    }\n",
       "\n",
       "    .dataframe tbody tr th {\n",
       "        vertical-align: top;\n",
       "    }\n",
       "\n",
       "    .dataframe thead th {\n",
       "        text-align: right;\n",
       "    }\n",
       "</style>\n",
       "<table border=\"1\" class=\"dataframe\">\n",
       "  <thead>\n",
       "    <tr style=\"text-align: right;\">\n",
       "      <th></th>\n",
       "      <th>ˆGSPC</th>\n",
       "      <th>MSFT</th>\n",
       "    </tr>\n",
       "    <tr>\n",
       "      <th>Date</th>\n",
       "      <th></th>\n",
       "      <th></th>\n",
       "    </tr>\n",
       "  </thead>\n",
       "  <tbody>\n",
       "    <tr>\n",
       "      <th>01/11/2015</th>\n",
       "      <td>NaN</td>\n",
       "      <td>NaN</td>\n",
       "    </tr>\n",
       "    <tr>\n",
       "      <th>01/12/2015</th>\n",
       "      <td>-0.212228</td>\n",
       "      <td>0.327551</td>\n",
       "    </tr>\n",
       "    <tr>\n",
       "      <th>01/01/2016</th>\n",
       "      <td>-0.624811</td>\n",
       "      <td>-0.084653</td>\n",
       "    </tr>\n",
       "    <tr>\n",
       "      <th>01/02/2016</th>\n",
       "      <td>-0.049643</td>\n",
       "      <td>-0.953980</td>\n",
       "    </tr>\n",
       "    <tr>\n",
       "      <th>01/03/2016</th>\n",
       "      <td>0.766860</td>\n",
       "      <td>1.070287</td>\n",
       "    </tr>\n",
       "    <tr>\n",
       "      <th>...</th>\n",
       "      <td>...</td>\n",
       "      <td>...</td>\n",
       "    </tr>\n",
       "    <tr>\n",
       "      <th>01/07/2020</th>\n",
       "      <td>0.643642</td>\n",
       "      <td>0.088124</td>\n",
       "    </tr>\n",
       "    <tr>\n",
       "      <th>01/08/2020</th>\n",
       "      <td>0.812629</td>\n",
       "      <td>1.144733</td>\n",
       "    </tr>\n",
       "    <tr>\n",
       "      <th>01/09/2020</th>\n",
       "      <td>-0.480217</td>\n",
       "      <td>-0.808333</td>\n",
       "    </tr>\n",
       "    <tr>\n",
       "      <th>01/10/2020</th>\n",
       "      <td>-0.336668</td>\n",
       "      <td>-0.457031</td>\n",
       "    </tr>\n",
       "    <tr>\n",
       "      <th>01/11/2020</th>\n",
       "      <td>1.225757</td>\n",
       "      <td>0.668536</td>\n",
       "    </tr>\n",
       "  </tbody>\n",
       "</table>\n",
       "<p>61 rows × 2 columns</p>\n",
       "</div>"
      ],
      "text/plain": [
       "               ˆGSPC      MSFT\n",
       "Date                          \n",
       "01/11/2015       NaN       NaN\n",
       "01/12/2015 -0.212228  0.327551\n",
       "01/01/2016 -0.624811 -0.084653\n",
       "01/02/2016 -0.049643 -0.953980\n",
       "01/03/2016  0.766860  1.070287\n",
       "...              ...       ...\n",
       "01/07/2020  0.643642  0.088124\n",
       "01/08/2020  0.812629  1.144733\n",
       "01/09/2020 -0.480217 -0.808333\n",
       "01/10/2020 -0.336668 -0.457031\n",
       "01/11/2020  1.225757  0.668536\n",
       "\n",
       "[61 rows x 2 columns]"
      ]
     },
     "execution_count": 6,
     "metadata": {},
     "output_type": "execute_result"
    }
   ],
   "source": [
    "Ret =sec_returns*12\n",
    "Ret"
   ]
  },
  {
   "cell_type": "code",
   "execution_count": 8,
   "id": "b0c02cf0",
   "metadata": {},
   "outputs": [],
   "source": [
    "Ret_secs = Ret.iloc[1:61]"
   ]
  },
  {
   "cell_type": "code",
   "execution_count": 9,
   "id": "439a7aa5",
   "metadata": {},
   "outputs": [
    {
     "data": {
      "text/html": [
       "<div>\n",
       "<style scoped>\n",
       "    .dataframe tbody tr th:only-of-type {\n",
       "        vertical-align: middle;\n",
       "    }\n",
       "\n",
       "    .dataframe tbody tr th {\n",
       "        vertical-align: top;\n",
       "    }\n",
       "\n",
       "    .dataframe thead th {\n",
       "        text-align: right;\n",
       "    }\n",
       "</style>\n",
       "<table border=\"1\" class=\"dataframe\">\n",
       "  <thead>\n",
       "    <tr style=\"text-align: right;\">\n",
       "      <th></th>\n",
       "      <th>ˆGSPC</th>\n",
       "      <th>MSFT</th>\n",
       "    </tr>\n",
       "    <tr>\n",
       "      <th>Date</th>\n",
       "      <th></th>\n",
       "      <th></th>\n",
       "    </tr>\n",
       "  </thead>\n",
       "  <tbody>\n",
       "    <tr>\n",
       "      <th>01/12/2015</th>\n",
       "      <td>-0.212228</td>\n",
       "      <td>0.327551</td>\n",
       "    </tr>\n",
       "    <tr>\n",
       "      <th>01/01/2016</th>\n",
       "      <td>-0.624811</td>\n",
       "      <td>-0.084653</td>\n",
       "    </tr>\n",
       "    <tr>\n",
       "      <th>01/02/2016</th>\n",
       "      <td>-0.049643</td>\n",
       "      <td>-0.953980</td>\n",
       "    </tr>\n",
       "    <tr>\n",
       "      <th>01/03/2016</th>\n",
       "      <td>0.766860</td>\n",
       "      <td>1.070287</td>\n",
       "    </tr>\n",
       "    <tr>\n",
       "      <th>01/04/2016</th>\n",
       "      <td>0.032349</td>\n",
       "      <td>-1.225041</td>\n",
       "    </tr>\n",
       "  </tbody>\n",
       "</table>\n",
       "</div>"
      ],
      "text/plain": [
       "               ˆGSPC      MSFT\n",
       "Date                          \n",
       "01/12/2015 -0.212228  0.327551\n",
       "01/01/2016 -0.624811 -0.084653\n",
       "01/02/2016 -0.049643 -0.953980\n",
       "01/03/2016  0.766860  1.070287\n",
       "01/04/2016  0.032349 -1.225041"
      ]
     },
     "execution_count": 9,
     "metadata": {},
     "output_type": "execute_result"
    }
   ],
   "source": [
    "Ret_secs.head()"
   ]
  },
  {
   "cell_type": "code",
   "execution_count": 13,
   "id": "a348b39f",
   "metadata": {},
   "outputs": [
    {
     "data": {
      "text/html": [
       "<div>\n",
       "<style scoped>\n",
       "    .dataframe tbody tr th:only-of-type {\n",
       "        vertical-align: middle;\n",
       "    }\n",
       "\n",
       "    .dataframe tbody tr th {\n",
       "        vertical-align: top;\n",
       "    }\n",
       "\n",
       "    .dataframe thead th {\n",
       "        text-align: right;\n",
       "    }\n",
       "</style>\n",
       "<table border=\"1\" class=\"dataframe\">\n",
       "  <thead>\n",
       "    <tr style=\"text-align: right;\">\n",
       "      <th></th>\n",
       "      <th>ˆGSPC</th>\n",
       "      <th>MSFT</th>\n",
       "    </tr>\n",
       "  </thead>\n",
       "  <tbody>\n",
       "    <tr>\n",
       "      <th>ˆGSPC</th>\n",
       "      <td>0.281</td>\n",
       "      <td>0.225</td>\n",
       "    </tr>\n",
       "    <tr>\n",
       "      <th>MSFT</th>\n",
       "      <td>0.225</td>\n",
       "      <td>0.385</td>\n",
       "    </tr>\n",
       "  </tbody>\n",
       "</table>\n",
       "</div>"
      ],
      "text/plain": [
       "       ˆGSPC   MSFT\n",
       "ˆGSPC  0.281  0.225\n",
       "MSFT   0.225  0.385"
      ]
     },
     "execution_count": 13,
     "metadata": {},
     "output_type": "execute_result"
    }
   ],
   "source": [
    "cov = Ret_secs.cov()\n",
    "cov.round(3)"
   ]
  },
  {
   "cell_type": "code",
   "execution_count": 15,
   "id": "ad8f56f8",
   "metadata": {},
   "outputs": [
    {
     "data": {
      "text/html": [
       "<div>\n",
       "<style scoped>\n",
       "    .dataframe tbody tr th:only-of-type {\n",
       "        vertical-align: middle;\n",
       "    }\n",
       "\n",
       "    .dataframe tbody tr th {\n",
       "        vertical-align: top;\n",
       "    }\n",
       "\n",
       "    .dataframe thead th {\n",
       "        text-align: right;\n",
       "    }\n",
       "</style>\n",
       "<table border=\"1\" class=\"dataframe\">\n",
       "  <thead>\n",
       "    <tr style=\"text-align: right;\">\n",
       "      <th></th>\n",
       "      <th>ˆGSPC</th>\n",
       "      <th>MSFT</th>\n",
       "    </tr>\n",
       "  </thead>\n",
       "  <tbody>\n",
       "    <tr>\n",
       "      <th>ˆGSPC</th>\n",
       "      <td>1.000</td>\n",
       "      <td>0.683</td>\n",
       "    </tr>\n",
       "    <tr>\n",
       "      <th>MSFT</th>\n",
       "      <td>0.683</td>\n",
       "      <td>1.000</td>\n",
       "    </tr>\n",
       "  </tbody>\n",
       "</table>\n",
       "</div>"
      ],
      "text/plain": [
       "       ˆGSPC   MSFT\n",
       "ˆGSPC  1.000  0.683\n",
       "MSFT   0.683  1.000"
      ]
     },
     "execution_count": 15,
     "metadata": {},
     "output_type": "execute_result"
    }
   ],
   "source": [
    "corr = Ret_secs.corr()\n",
    "corr.round(3)"
   ]
  },
  {
   "cell_type": "code",
   "execution_count": 20,
   "id": "5459a017",
   "metadata": {},
   "outputs": [
    {
     "data": {
      "text/plain": [
       "0.225"
      ]
     },
     "execution_count": 20,
     "metadata": {},
     "output_type": "execute_result"
    }
   ],
   "source": [
    "cov_MSFT = cov.iloc[1,0]\n",
    "cov_MSFT.round(3)"
   ]
  },
  {
   "cell_type": "code",
   "execution_count": 23,
   "id": "4d354a56",
   "metadata": {},
   "outputs": [
    {
     "data": {
      "text/plain": [
       "0.281387711726487"
      ]
     },
     "execution_count": 23,
     "metadata": {},
     "output_type": "execute_result"
    }
   ],
   "source": [
    "# Calculating the market Variance (GSPC) in order to determine Beta\n",
    "market_var = Ret_secs['ˆGSPC'].var()\n",
    "market_var"
   ]
  },
  {
   "cell_type": "code",
   "execution_count": 25,
   "id": "6555d549",
   "metadata": {},
   "outputs": [
    {
     "data": {
      "text/plain": [
       "0.7988"
      ]
     },
     "execution_count": 25,
     "metadata": {},
     "output_type": "execute_result"
    }
   ],
   "source": [
    "# Beta of MSFT = Cov of MSFT / Variance of the Market GSPC\n",
    "Beta_MSFT = cov_MSFT/market_var\n",
    "Beta_MSFT.round(4)"
   ]
  },
  {
   "cell_type": "code",
   "execution_count": 36,
   "id": "f798fa08",
   "metadata": {},
   "outputs": [
    {
     "data": {
      "text/html": [
       "<div>\n",
       "<style scoped>\n",
       "    .dataframe tbody tr th:only-of-type {\n",
       "        vertical-align: middle;\n",
       "    }\n",
       "\n",
       "    .dataframe tbody tr th {\n",
       "        vertical-align: top;\n",
       "    }\n",
       "\n",
       "    .dataframe thead th {\n",
       "        text-align: right;\n",
       "    }\n",
       "</style>\n",
       "<table border=\"1\" class=\"dataframe\">\n",
       "  <thead>\n",
       "    <tr style=\"text-align: right;\">\n",
       "      <th></th>\n",
       "      <th>0</th>\n",
       "    </tr>\n",
       "  </thead>\n",
       "  <tbody>\n",
       "    <tr>\n",
       "      <th>ˆGSPC</th>\n",
       "      <td>0.110872</td>\n",
       "    </tr>\n",
       "    <tr>\n",
       "      <th>MSFT</th>\n",
       "      <td>0.293299</td>\n",
       "    </tr>\n",
       "  </tbody>\n",
       "</table>\n",
       "</div>"
      ],
      "text/plain": [
       "              0\n",
       "ˆGSPC  0.110872\n",
       "MSFT   0.293299"
      ]
     },
     "execution_count": 36,
     "metadata": {},
     "output_type": "execute_result"
    }
   ],
   "source": [
    "Ret_secs_mean = pd.DataFrame(Ret_secs.mean())\n",
    "Ret_secs_mean\n",
    "# Ri = Return on MSFT\n",
    "# Rm = Return on GSPC"
   ]
  },
  {
   "cell_type": "code",
   "execution_count": 37,
   "id": "2f4e90f2",
   "metadata": {},
   "outputs": [],
   "source": [
    "Rf = 0.0009"
   ]
  },
  {
   "cell_type": "code",
   "execution_count": 39,
   "id": "df25589a",
   "metadata": {},
   "outputs": [
    {
     "data": {
      "text/plain": [
       "0.1099718442114298"
      ]
     },
     "execution_count": 39,
     "metadata": {},
     "output_type": "execute_result"
    }
   ],
   "source": [
    "# Risk premium is Rm-Rf\n",
    "RP = Ret_secs_mean.iloc[0,0] - Rf\n",
    "RP"
   ]
  },
  {
   "cell_type": "code",
   "execution_count": 42,
   "id": "0e4c2ee2",
   "metadata": {},
   "outputs": [
    {
     "data": {
      "text/plain": [
       "0.08874300508557749"
      ]
     },
     "execution_count": 42,
     "metadata": {},
     "output_type": "execute_result"
    }
   ],
   "source": [
    "MSFT_expret = Rf + Beta_MSFT * (RP)\n",
    "MSFT_expret"
   ]
  }
 ],
 "metadata": {
  "kernelspec": {
   "display_name": "Python 3",
   "language": "python",
   "name": "python3"
  },
  "language_info": {
   "codemirror_mode": {
    "name": "ipython",
    "version": 3
   },
   "file_extension": ".py",
   "mimetype": "text/x-python",
   "name": "python",
   "nbconvert_exporter": "python",
   "pygments_lexer": "ipython3",
   "version": "3.8.8"
  }
 },
 "nbformat": 4,
 "nbformat_minor": 5
}
